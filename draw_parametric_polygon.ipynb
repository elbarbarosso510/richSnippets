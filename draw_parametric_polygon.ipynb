{
 "cells": [
  {
   "cell_type": "code",
   "execution_count": 8,
   "id": "3260c413",
   "metadata": {},
   "outputs": [
    {
     "data": {
      "text/plain": [
       "(-5.0, 5.0)"
      ]
     },
     "execution_count": 8,
     "metadata": {},
     "output_type": "execute_result"
    },
    {
     "data": {
      "image/png": "[encoded data removed]",
      "text/plain": [
       "<Figure size 432x288 with 1 Axes>"
      ]
     },
     "metadata": {
      "needs_background": "light"
     },
     "output_type": "display_data"
    }
   ],
   "source": [
    "import numpy as np\n",
    "import matplotlib.pyplot as plt\n",
    "\n",
    "# Define a parameter t that will be used to control the shape of the polygon\n",
    "t = np.linspace(0, 1*np.pi, 1000)\n",
    "\n",
    "# Define the x and y coordinates of the polygon using sine and cosine functions\n",
    "x = (3 + 0.4*np.cos(5*t) + 1*np.cos(4.3*t)+ 0.6*np.cos(13*t))*np.cos(t)\n",
    "y = (3 + 0.4*np.cos(5*t) + 1*np.cos(4.3*t)+ 0.6*np.cos(13*t))*np.sin(t)\n",
    "\n",
    "# Lets make it into a polygon with all the poitns\n",
    "poly_points = [(x, y) for x, y in zip(x, y)]\n",
    "poly_points.extend( [(x, -y) for x, y in zip(x[::-1], y)])\n",
    "\n",
    "\n",
    "from matplotlib.patches import Polygon\n",
    "polygon = Polygon(poly_points, closed=True)\n",
    "\n",
    "\n",
    "# Create a figure and axes\n",
    "fig, ax = plt.subplots()\n",
    "\n",
    "# Add the polygon to the axes\n",
    "ax.add_patch(polygon)\n",
    "ax.set_xlim(-5, 5)\n",
    "ax.set_ylim(-5, 5)"
   ]
  },
  {
   "cell_type": "code",
   "execution_count": null,
   "id": "b5bad005",
   "metadata": {},
   "outputs": [],
   "source": []
  },
  {
   "cell_type": "code",
   "execution_count": null,
   "id": "1bd904a5",
   "metadata": {},
   "outputs": [],
   "source": []
  },
  {
   "cell_type": "code",
   "execution_count": null,
   "id": "f0a4be32",
   "metadata": {},
   "outputs": [],
   "source": []
  },
  {
   "cell_type": "code",
   "execution_count": null,
   "id": "e502600c",
   "metadata": {},
   "outputs": [],
   "source": []
  }
 ],
 "metadata": {
  "@webio": {
   "lastCommId": null,
   "lastKernelId": null
  },
  "kernelspec": {
   "display_name": "Python 3 (ipykernel)",
   "language": "python",
   "name": "python3"
  },
  "language_info": {
   "codemirror_mode": {
    "name": "ipython",
    "version": 3
   },
   "file_extension": ".py",
   "mimetype": "text/x-python",
   "name": "python",
   "nbconvert_exporter": "python",
   "pygments_lexer": "ipython3",
   "version": "3.9.5"
  }
 },
 "nbformat": 4,
 "nbformat_minor": 5
}
